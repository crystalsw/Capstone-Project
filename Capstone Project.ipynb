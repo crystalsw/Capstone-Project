{
 "cells": [
  {
   "cell_type": "markdown",
   "metadata": {},
   "source": [
    "## Research Question"
   ]
  },
  {
   "cell_type": "markdown",
   "metadata": {},
   "source": [
    "To find the sentiments on movie reviews"
   ]
  },
  {
   "cell_type": "markdown",
   "metadata": {},
   "source": [
    "## Expected Data Source"
   ]
  },
  {
   "cell_type": "markdown",
   "metadata": {},
   "source": [
    "https://www.kaggle.com/competitions/sentiment-analysis-on-movie-reviews/data"
   ]
  },
  {
   "cell_type": "markdown",
   "metadata": {},
   "source": [
    "## Techniques expected to use in the analysis"
   ]
  },
  {
   "cell_type": "markdown",
   "metadata": {},
   "source": [
    "Natural Language Processing, N-gram"
   ]
  },
  {
   "cell_type": "markdown",
   "metadata": {},
   "source": [
    "## Expected Results"
   ]
  },
  {
   "cell_type": "markdown",
   "metadata": {},
   "source": [
    "Movie reviews are labelled with sentiments like negative, somewhat negative, neutral, somewhat positive, positive.\n",
    "Based on the sentiments, recommend/not recommend the movie to people."
   ]
  },
  {
   "cell_type": "markdown",
   "metadata": {},
   "source": [
    "## Importance of the topic"
   ]
  },
  {
   "cell_type": "markdown",
   "metadata": {},
   "source": [
    "It can help people to know whether the movie is good or not before watching. It can save a lot of their time and money when choosing movie to watch. "
   ]
  },
  {
   "cell_type": "markdown",
   "metadata": {},
   "source": [
    "It can let the movie producer to know how to improve the movie quality by understanding audiences' feelings."
   ]
  },
  {
   "cell_type": "markdown",
   "metadata": {},
   "source": [
    "## Import Libraries"
   ]
  },
  {
   "cell_type": "code",
   "execution_count": 131,
   "metadata": {
    "colab": {
     "base_uri": "https://localhost:8080/"
    },
    "id": "fyZruLFr2kNB",
    "outputId": "86c48462-7583-46b0-d228-d370e3071a14"
   },
   "outputs": [
    {
     "name": "stderr",
     "output_type": "stream",
     "text": [
      "[nltk_data] Downloading package punkt to\n",
      "[nltk_data]     C:\\Users\\Dennis\\AppData\\Roaming\\nltk_data...\n",
      "[nltk_data]   Package punkt is already up-to-date!\n",
      "[nltk_data] Downloading package averaged_perceptron_tagger to\n",
      "[nltk_data]     C:\\Users\\Dennis\\AppData\\Roaming\\nltk_data...\n",
      "[nltk_data]   Package averaged_perceptron_tagger is already up-to-\n",
      "[nltk_data]       date!\n",
      "[nltk_data] Downloading package maxent_ne_chunker to\n",
      "[nltk_data]     C:\\Users\\Dennis\\AppData\\Roaming\\nltk_data...\n",
      "[nltk_data]   Package maxent_ne_chunker is already up-to-date!\n",
      "[nltk_data] Downloading package words to\n",
      "[nltk_data]     C:\\Users\\Dennis\\AppData\\Roaming\\nltk_data...\n",
      "[nltk_data]   Package words is already up-to-date!\n",
      "[nltk_data] Downloading package stopwords to\n",
      "[nltk_data]     C:\\Users\\Dennis\\AppData\\Roaming\\nltk_data...\n",
      "[nltk_data]   Package stopwords is already up-to-date!\n",
      "[nltk_data] Downloading package wordnet to\n",
      "[nltk_data]     C:\\Users\\Dennis\\AppData\\Roaming\\nltk_data...\n",
      "[nltk_data]   Package wordnet is already up-to-date!\n",
      "[nltk_data] Downloading package omw-1.4 to\n",
      "[nltk_data]     C:\\Users\\Dennis\\AppData\\Roaming\\nltk_data...\n",
      "[nltk_data]   Package omw-1.4 is already up-to-date!\n"
     ]
    }
   ],
   "source": [
    "import numpy as np\n",
    "import pandas as pd\n",
    "import matplotlib.pyplot as plt\n",
    "import seaborn as sns\n",
    "import re\n",
    "\n",
    "import nltk\n",
    "from nltk import word_tokenize, sent_tokenize\n",
    "from nltk.stem import PorterStemmer, WordNetLemmatizer\n",
    "nltk.download('punkt')\n",
    "nltk.download('averaged_perceptron_tagger')\n",
    "nltk.download('maxent_ne_chunker')\n",
    "nltk.download('words')\n",
    "nltk.download('stopwords')\n",
    "nltk.download('wordnet')\n",
    "nltk.download('omw-1.4')\n",
    "from nltk.corpus import stopwords\n",
    "\n",
    "from sklearn.linear_model import LogisticRegression\n",
    "from sklearn.tree import DecisionTreeClassifier\n",
    "from sklearn.feature_extraction.text import CountVectorizer,TfidfVectorizer\n",
    "from sklearn.pipeline import Pipeline\n",
    "from sklearn.model_selection import train_test_split, GridSearchCV\n",
    "from sklearn.metrics import mean_squared_error\n",
    "\n",
    "from sklearn.naive_bayes import MultinomialNB\n",
    "from sklearn.model_selection import cross_val_score,cross_val_predict\n",
    "from sklearn.metrics import confusion_matrix\n",
    "\n",
    "from sklearn.metrics import precision_score, recall_score, f1_score"
   ]
  },
  {
   "cell_type": "markdown",
   "metadata": {},
   "source": [
    "## Data Preprocess"
   ]
  },
  {
   "cell_type": "code",
   "execution_count": 102,
   "metadata": {
    "colab": {
     "base_uri": "https://localhost:8080/"
    },
    "id": "zVrVrdfU0451",
    "outputId": "77194772-a05b-44b5-f722-6be7855a80f8"
   },
   "outputs": [],
   "source": [
    "# only the training dataset contains sentiment result, so I just use training dataset here\n",
    "df=pd.read_csv('./data/train.tsv.zip',sep='\\t')\n",
    "\n",
    "# the test dataset does not contain expected sentiment results. It is for competition. So I ignored it\n",
    "# test_df=pd.read_csv('./data/test.tsv.zip',sep='\\t')"
   ]
  },
  {
   "cell_type": "code",
   "execution_count": 4,
   "metadata": {
    "colab": {
     "base_uri": "https://localhost:8080/",
     "height": 206
    },
    "id": "CGLqnv8g2L4q",
    "outputId": "c4701389-f4a0-43a2-fbd6-20dc7f144bfd"
   },
   "outputs": [
    {
     "data": {
      "text/html": [
       "<div>\n",
       "<style scoped>\n",
       "    .dataframe tbody tr th:only-of-type {\n",
       "        vertical-align: middle;\n",
       "    }\n",
       "\n",
       "    .dataframe tbody tr th {\n",
       "        vertical-align: top;\n",
       "    }\n",
       "\n",
       "    .dataframe thead th {\n",
       "        text-align: right;\n",
       "    }\n",
       "</style>\n",
       "<table border=\"1\" class=\"dataframe\">\n",
       "  <thead>\n",
       "    <tr style=\"text-align: right;\">\n",
       "      <th></th>\n",
       "      <th>PhraseId</th>\n",
       "      <th>SentenceId</th>\n",
       "      <th>Phrase</th>\n",
       "      <th>Sentiment</th>\n",
       "    </tr>\n",
       "  </thead>\n",
       "  <tbody>\n",
       "    <tr>\n",
       "      <th>0</th>\n",
       "      <td>1</td>\n",
       "      <td>1</td>\n",
       "      <td>A series of escapades demonstrating the adage ...</td>\n",
       "      <td>1</td>\n",
       "    </tr>\n",
       "    <tr>\n",
       "      <th>1</th>\n",
       "      <td>2</td>\n",
       "      <td>1</td>\n",
       "      <td>A series of escapades demonstrating the adage ...</td>\n",
       "      <td>2</td>\n",
       "    </tr>\n",
       "    <tr>\n",
       "      <th>2</th>\n",
       "      <td>3</td>\n",
       "      <td>1</td>\n",
       "      <td>A series</td>\n",
       "      <td>2</td>\n",
       "    </tr>\n",
       "    <tr>\n",
       "      <th>3</th>\n",
       "      <td>4</td>\n",
       "      <td>1</td>\n",
       "      <td>A</td>\n",
       "      <td>2</td>\n",
       "    </tr>\n",
       "    <tr>\n",
       "      <th>4</th>\n",
       "      <td>5</td>\n",
       "      <td>1</td>\n",
       "      <td>series</td>\n",
       "      <td>2</td>\n",
       "    </tr>\n",
       "  </tbody>\n",
       "</table>\n",
       "</div>"
      ],
      "text/plain": [
       "   PhraseId  SentenceId                                             Phrase  \\\n",
       "0         1           1  A series of escapades demonstrating the adage ...   \n",
       "1         2           1  A series of escapades demonstrating the adage ...   \n",
       "2         3           1                                           A series   \n",
       "3         4           1                                                  A   \n",
       "4         5           1                                             series   \n",
       "\n",
       "   Sentiment  \n",
       "0          1  \n",
       "1          2  \n",
       "2          2  \n",
       "3          2  \n",
       "4          2  "
      ]
     },
     "execution_count": 4,
     "metadata": {},
     "output_type": "execute_result"
    }
   ],
   "source": [
    "df.head()"
   ]
  },
  {
   "cell_type": "code",
   "execution_count": 103,
   "metadata": {
    "id": "SZ1-0p5C2uj4"
   },
   "outputs": [],
   "source": [
    "df_with_description = df.copy()\n",
    "\n",
    "df_with_description['Sentiment Description'] = pd.DataFrame(df_with_description['Sentiment'].replace(0,'Negative').replace(1,'Somewhat Negative').replace(2,'Neutral').replace(3,'Somewhat Positive').replace(4,'Positive'))"
   ]
  },
  {
   "cell_type": "code",
   "execution_count": 6,
   "metadata": {
    "colab": {
     "base_uri": "https://localhost:8080/",
     "height": 206
    },
    "id": "E3ERoIdP36iY",
    "outputId": "bf38fecb-e982-4a81-a3ac-eca1a4cabd1b"
   },
   "outputs": [
    {
     "data": {
      "text/html": [
       "<div>\n",
       "<style scoped>\n",
       "    .dataframe tbody tr th:only-of-type {\n",
       "        vertical-align: middle;\n",
       "    }\n",
       "\n",
       "    .dataframe tbody tr th {\n",
       "        vertical-align: top;\n",
       "    }\n",
       "\n",
       "    .dataframe thead th {\n",
       "        text-align: right;\n",
       "    }\n",
       "</style>\n",
       "<table border=\"1\" class=\"dataframe\">\n",
       "  <thead>\n",
       "    <tr style=\"text-align: right;\">\n",
       "      <th></th>\n",
       "      <th>PhraseId</th>\n",
       "      <th>SentenceId</th>\n",
       "      <th>Phrase</th>\n",
       "      <th>Sentiment</th>\n",
       "      <th>Sentiment Description</th>\n",
       "    </tr>\n",
       "  </thead>\n",
       "  <tbody>\n",
       "    <tr>\n",
       "      <th>0</th>\n",
       "      <td>1</td>\n",
       "      <td>1</td>\n",
       "      <td>A series of escapades demonstrating the adage ...</td>\n",
       "      <td>1</td>\n",
       "      <td>Somewhat Negative</td>\n",
       "    </tr>\n",
       "    <tr>\n",
       "      <th>1</th>\n",
       "      <td>2</td>\n",
       "      <td>1</td>\n",
       "      <td>A series of escapades demonstrating the adage ...</td>\n",
       "      <td>2</td>\n",
       "      <td>Neutral</td>\n",
       "    </tr>\n",
       "    <tr>\n",
       "      <th>2</th>\n",
       "      <td>3</td>\n",
       "      <td>1</td>\n",
       "      <td>A series</td>\n",
       "      <td>2</td>\n",
       "      <td>Neutral</td>\n",
       "    </tr>\n",
       "    <tr>\n",
       "      <th>3</th>\n",
       "      <td>4</td>\n",
       "      <td>1</td>\n",
       "      <td>A</td>\n",
       "      <td>2</td>\n",
       "      <td>Neutral</td>\n",
       "    </tr>\n",
       "    <tr>\n",
       "      <th>4</th>\n",
       "      <td>5</td>\n",
       "      <td>1</td>\n",
       "      <td>series</td>\n",
       "      <td>2</td>\n",
       "      <td>Neutral</td>\n",
       "    </tr>\n",
       "  </tbody>\n",
       "</table>\n",
       "</div>"
      ],
      "text/plain": [
       "   PhraseId  SentenceId                                             Phrase  \\\n",
       "0         1           1  A series of escapades demonstrating the adage ...   \n",
       "1         2           1  A series of escapades demonstrating the adage ...   \n",
       "2         3           1                                           A series   \n",
       "3         4           1                                                  A   \n",
       "4         5           1                                             series   \n",
       "\n",
       "   Sentiment Sentiment Description  \n",
       "0          1     Somewhat Negative  \n",
       "1          2               Neutral  \n",
       "2          2               Neutral  \n",
       "3          2               Neutral  \n",
       "4          2               Neutral  "
      ]
     },
     "execution_count": 6,
     "metadata": {},
     "output_type": "execute_result"
    }
   ],
   "source": [
    "df_with_description.head()"
   ]
  },
  {
   "cell_type": "markdown",
   "metadata": {},
   "source": [
    "## Explore Data"
   ]
  },
  {
   "cell_type": "code",
   "execution_count": 104,
   "metadata": {
    "colab": {
     "base_uri": "https://localhost:8080/",
     "height": 350
    },
    "id": "oAUzD2hm4R4U",
    "outputId": "b27a3b3c-6b47-4eec-a67e-ee1bd1a0e552"
   },
   "outputs": [
    {
     "data": {
      "image/png": "[encoded data removed]",
      "text/plain": [
       "<Figure size 936x360 with 1 Axes>"
      ]
     },
     "metadata": {
      "needs_background": "light"
     },
     "output_type": "display_data"
    }
   ],
   "source": [
    "# show bar chart for distribution of sentiments in the dataset\n",
    "plt.figure(figsize=(13,5))\n",
    "plt.bar(height=df_with_description['Sentiment Description'].value_counts(), x=df_with_description['Sentiment Description'].unique())\n",
    "plt.title('Distribution of Sentiments')\n",
    "plt.xlabel('Sentiment')\n",
    "plt.ylabel('Count')\n",
    "plt.show()"
   ]
  },
  {
   "cell_type": "code",
   "execution_count": 112,
   "metadata": {},
   "outputs": [
    {
     "data": {
      "text/plain": [
       "<AxesSubplot:title={'center':'Distribution of Sentiments'}, ylabel='Sentiment Description'>"
      ]
     },
     "execution_count": 112,
     "metadata": {},
     "output_type": "execute_result"
    },
    {
     "data": {
      "image/png": "[encoded data removed]",
      "text/plain": [
       "<Figure size 864x864 with 1 Axes>"
      ]
     },
     "metadata": {},
     "output_type": "display_data"
    }
   ],
   "source": [
    "# show pie chart for distribution of sentiments in the dataset\n",
    "pie_chart=pd.DataFrame(df_with_description['Sentiment Description'].value_counts())\n",
    "pie_chart.reset_index(inplace=True)\n",
    "pie_chart.plot(kind='pie', title='Distribution of Sentiments',y = 'Sentiment Description', \n",
    "          autopct='%1.1f%%', shadow=False, labels=pie_chart['index'], legend = False, fontsize=14, figsize=(12,12))"
   ]
  },
  {
   "cell_type": "markdown",
   "metadata": {},
   "source": [
    "From the pie chart above, the most frequently seen data is coming from Neutral reviews."
   ]
  },
  {
   "cell_type": "code",
   "execution_count": 121,
   "metadata": {},
   "outputs": [
    {
     "data": {
      "text/plain": [
       "Text(0.5, 0.98, 'Phrase length distribution under different sentiments')"
      ]
     },
     "execution_count": 121,
     "metadata": {},
     "output_type": "execute_result"
    },
    {
     "data": {
      "image/png": "[encoded data removed]",
      "text/plain": [
       "<Figure size 1440x720 with 5 Axes>"
      ]
     },
     "metadata": {
      "needs_background": "light"
     },
     "output_type": "display_data"
    }
   ],
   "source": [
    "# show phrase length distribution under different sentiments\n",
    "f, (ax1, ax2, ax3, ax4, ax5) = plt.subplots(1,5,figsize=(20,10))\n",
    "\n",
    "ax1.hist(df_with_description[df_with_description['Sentiment'] == 0]['Phrase'].str.split().map(lambda x: len(x)), bins=50, color='r')\n",
    "ax1.set_title('Negative Reviews')\n",
    "ax1.set_xlabel('Phrase length')\n",
    "\n",
    "ax2.hist(df_with_description[df_with_description['Sentiment'] == 1]['Phrase'].str.split().map(lambda x: len(x)), bins=50, color='y')\n",
    "ax2.set_title('Somewhat Negative Reviews')\n",
    "ax2.set_xlabel('Phrase length')\n",
    "\n",
    "ax3.hist(df_with_description[df_with_description['Sentiment'] == 2]['Phrase'].str.split().map(lambda x: len(x)), bins=50, color='g')\n",
    "ax3.set_title('Neutral Reviews')\n",
    "ax3.set_xlabel('Phrase length')\n",
    "\n",
    "ax4.hist(df_with_description[df_with_description['Sentiment'] == 3]['Phrase'].str.split().map(lambda x: len(x)), bins=50, color='b')\n",
    "ax4.set_title('Somewhat Positive Reviews')\n",
    "ax4.set_xlabel('Phrase length')\n",
    "\n",
    "ax5.hist(df_with_description[df_with_description['Sentiment'] == 4]['Phrase'].str.split().map(lambda x: len(x)), bins=50, color='k')\n",
    "ax5.set_title('Positive Reviews')\n",
    "ax5.set_xlabel('Phrase length')\n",
    "\n",
    "f.suptitle('Phrase length distribution under different sentiments')"
   ]
  },
  {
   "cell_type": "markdown",
   "metadata": {},
   "source": [
    "In the histograms above, the distribution behaves like a negative exponential function. As x increases, y decreases."
   ]
  },
  {
   "cell_type": "code",
   "execution_count": 150,
   "metadata": {},
   "outputs": [
    {
     "name": "stdout",
     "output_type": "stream",
     "text": [
      "Length Distribution of Phrases:\n",
      "Number of phrases which contain more than 10 words:  39540\n",
      "Number of phrases which contain more than 20 words:  11494\n",
      "Number of phrases which contain more than 30 words:  2568\n",
      "Number of phrases which contain more than 40 words:  352\n",
      "Number of phrases which contain more than 50 words:  18\n"
     ]
    }
   ],
   "source": [
    "print('Length Distribution of Phrases:')\n",
    "df_len10=pd.DataFrame(df_with_description['Phrase'].str.split().map(lambda x: len(x))>=10)\n",
    "print('Number of phrases which contain more than 10 words: ', df_len10.loc[df_len10['Phrase']==True].shape[0])\n",
    "df_len20=pd.DataFrame(df_with_description['Phrase'].str.split().map(lambda x: len(x))>=20)\n",
    "print('Number of phrases which contain more than 20 words: ', df_len20.loc[df_len20['Phrase']==True].shape[0])\n",
    "df_len30=pd.DataFrame(df_with_description['Phrase'].str.split().map(lambda x: len(x))>=30)\n",
    "print('Number of phrases which contain more than 30 words: ', df_len30.loc[df_len30['Phrase']==True].shape[0])\n",
    "df_len40=pd.DataFrame(df_with_description['Phrase'].str.split().map(lambda x: len(x))>=40)\n",
    "print('Number of phrases which contain more than 40 words: ', df_len40.loc[df_len40['Phrase']==True].shape[0])\n",
    "df_len50=pd.DataFrame(df_with_description['Phrase'].str.split().map(lambda x: len(x))>=50)\n",
    "print('Number of phrases which contain more than 50 words: ', df_len50.loc[df_len50['Phrase']==True].shape[0])"
   ]
  },
  {
   "cell_type": "markdown",
   "metadata": {},
   "source": [
    "## Further Data Preprocess"
   ]
  },
  {
   "cell_type": "code",
   "execution_count": 23,
   "metadata": {},
   "outputs": [],
   "source": [
    "# remove non-alphabetical characters\n",
    "def remove_non_alphabets(text):\n",
    "    return re.sub('[^a-zA-Z]', ' ', text)\n",
    "\n",
    "df_with_description['Phrase preprocessed'] = df_with_description['Phrase'].apply(remove_non_alphabets)\n",
    "\n",
    "# all words to lower case\n",
    "def lower_case(text):\n",
    "    return text.lower()\n",
    "\n",
    "df_with_description['Phrase preprocessed'] = df_with_description['Phrase preprocessed'].apply(lower_case)"
   ]
  },
  {
   "cell_type": "code",
   "execution_count": 109,
   "metadata": {
    "colab": {
     "base_uri": "https://localhost:8080/",
     "height": 520
    },
    "id": "VNQTPUgcubz3",
    "outputId": "f8817fd1-9662-40a3-a8a5-7a0317b20557"
   },
   "outputs": [
    {
     "data": {
      "text/html": [
       "<div>\n",
       "<style scoped>\n",
       "    .dataframe tbody tr th:only-of-type {\n",
       "        vertical-align: middle;\n",
       "    }\n",
       "\n",
       "    .dataframe tbody tr th {\n",
       "        vertical-align: top;\n",
       "    }\n",
       "\n",
       "    .dataframe thead th {\n",
       "        text-align: right;\n",
       "    }\n",
       "</style>\n",
       "<table border=\"1\" class=\"dataframe\">\n",
       "  <thead>\n",
       "    <tr style=\"text-align: right;\">\n",
       "      <th></th>\n",
       "      <th>PhraseId</th>\n",
       "      <th>SentenceId</th>\n",
       "      <th>Phrase</th>\n",
       "      <th>Sentiment</th>\n",
       "      <th>Sentiment Description</th>\n",
       "    </tr>\n",
       "  </thead>\n",
       "  <tbody>\n",
       "    <tr>\n",
       "      <th>0</th>\n",
       "      <td>1</td>\n",
       "      <td>1</td>\n",
       "      <td>A series of escapades demonstrating the adage that what is good for the goose is also good for the gander , some of which occasionally amuses but none of which amounts to much of a story .</td>\n",
       "      <td>1</td>\n",
       "      <td>Somewhat Negative</td>\n",
       "    </tr>\n",
       "    <tr>\n",
       "      <th>1</th>\n",
       "      <td>2</td>\n",
       "      <td>1</td>\n",
       "      <td>A series of escapades demonstrating the adage that what is good for the goose</td>\n",
       "      <td>2</td>\n",
       "      <td>Neutral</td>\n",
       "    </tr>\n",
       "    <tr>\n",
       "      <th>2</th>\n",
       "      <td>3</td>\n",
       "      <td>1</td>\n",
       "      <td>A series</td>\n",
       "      <td>2</td>\n",
       "      <td>Neutral</td>\n",
       "    </tr>\n",
       "    <tr>\n",
       "      <th>3</th>\n",
       "      <td>4</td>\n",
       "      <td>1</td>\n",
       "      <td>A</td>\n",
       "      <td>2</td>\n",
       "      <td>Neutral</td>\n",
       "    </tr>\n",
       "    <tr>\n",
       "      <th>4</th>\n",
       "      <td>5</td>\n",
       "      <td>1</td>\n",
       "      <td>series</td>\n",
       "      <td>2</td>\n",
       "      <td>Neutral</td>\n",
       "    </tr>\n",
       "  </tbody>\n",
       "</table>\n",
       "</div>"
      ],
      "text/plain": [
       "   PhraseId  SentenceId  \\\n",
       "0         1           1   \n",
       "1         2           1   \n",
       "2         3           1   \n",
       "3         4           1   \n",
       "4         5           1   \n",
       "\n",
       "                                                                                                                                                                                         Phrase  \\\n",
       "0  A series of escapades demonstrating the adage that what is good for the goose is also good for the gander , some of which occasionally amuses but none of which amounts to much of a story .   \n",
       "1                                                                                                                 A series of escapades demonstrating the adage that what is good for the goose   \n",
       "2                                                                                                                                                                                      A series   \n",
       "3                                                                                                                                                                                             A   \n",
       "4                                                                                                                                                                                        series   \n",
       "\n",
       "   Sentiment Sentiment Description  \n",
       "0          1     Somewhat Negative  \n",
       "1          2               Neutral  \n",
       "2          2               Neutral  \n",
       "3          2               Neutral  \n",
       "4          2               Neutral  "
      ]
     },
     "execution_count": 109,
     "metadata": {},
     "output_type": "execute_result"
    }
   ],
   "source": [
    "df_with_description.head()"
   ]
  },
  {
   "cell_type": "code",
   "execution_count": 28,
   "metadata": {
    "id": "7DOJj5nE8qz4"
   },
   "outputs": [],
   "source": [
    "# apply stemming and lemmatizing\n",
    "def stemmer(text):\n",
    "    stem = PorterStemmer()\n",
    "    return ' '.join([stem.stem(word) for word in word_tokenize(text)])\n",
    "\n",
    "def lemmatizer(text):\n",
    "    lemma = WordNetLemmatizer()\n",
    "    return ' '.join([lemma.lemmatize(word) for word in word_tokenize(text)])\n",
    "\n",
    "stemmed_content_with_stopwords = df_with_description['Phrase'].apply(stemmer)\n",
    "\n",
    "lemmatized_content_with_stopwords = df_with_description['Phrase'].apply(lemmatizer)"
   ]
  },
  {
   "cell_type": "code",
   "execution_count": 30,
   "metadata": {
    "id": "kh-crSxXv-7g"
   },
   "outputs": [],
   "source": [
    "# split into training and test datasets\n",
    "X_train_stemmed, X_test_stemmed, y_train_stemmed, y_test_stemmed = train_test_split(stemmed_content_with_stopwords, df_with_description['Sentiment Description'], random_state = 42)\n",
    "X_train_lemmatized, X_test_lemmatized, y_train_lemmatized, y_test_lemmatized = train_test_split(lemmatized_content_with_stopwords, df_with_description['Sentiment Description'], random_state = 42)"
   ]
  },
  {
   "cell_type": "markdown",
   "metadata": {},
   "source": [
    "## Model Building"
   ]
  },
  {
   "cell_type": "code",
   "execution_count": 41,
   "metadata": {
    "id": "KQU_SdZ-jqZz"
   },
   "outputs": [],
   "source": [
    "def get_gridSearchCVResult_of_nlp_pipeline(methodsToUse, params_for_grid, X_train, y_train, X_test, y_test):\n",
    "    pipeline = Pipeline(methodsToUse)\n",
    "    grid = GridSearchCV(pipeline, param_grid = params_for_grid, n_jobs=-1)\n",
    "    grid.fit(X_train, y_train)\n",
    "    grid_acc_score = grid.score(X_test, y_test)\n",
    "    return { 'gridSearchCV_result': grid, 'grid_acc_score': grid_acc_score }"
   ]
  },
  {
   "cell_type": "code",
   "execution_count": 42,
   "metadata": {
    "colab": {
     "base_uri": "https://localhost:8080/"
    },
    "id": "E9HTCrx-WbK8",
    "outputId": "be4167e4-a197-4d83-ad32-224d0d6ca2f9"
   },
   "outputs": [],
   "source": [
    "# initialize datasets and parameters\n",
    "results = []\n",
    "\n",
    "datasets = {\n",
    "    'Stemmed':[X_train_stemmed, X_test_stemmed, y_train_stemmed, y_test_stemmed],\n",
    "    'Lemmatized':[X_train_lemmatized, X_test_lemmatized, y_train_lemmatized, y_test_lemmatized]\n",
    "}\n",
    "\n",
    "params_cvent = {'cvect__max_features': [100, 500, 1000, 2000],\n",
    "         'cvect__stop_words': ['english', None]}\n",
    "\n",
    "params_tfidf = {'tfidf__max_features': [500, 1000, 2000],\n",
    "         'tfidf__stop_words': ['english', None],\n",
    "         'tfidf__ngram_range': ((1, 1), (2, 2), (3,3),(1,2))}\n",
    "# can set 'tfidf__use_idf': (True, False)\" if have time or much powerful computer"
   ]
  },
  {
   "cell_type": "code",
   "execution_count": 33,
   "metadata": {
    "colab": {
     "base_uri": "https://localhost:8080/"
    },
    "id": "E9HTCrx-WbK8",
    "outputId": "be4167e4-a197-4d83-ad32-224d0d6ca2f9"
   },
   "outputs": [],
   "source": [
    "# Find the best params from CountVectorizer + LogisticRegression\n",
    "\n",
    "for dataset in datasets:\n",
    "    cvect_lgr_pipe = get_gridSearchCVResult_of_nlp_pipeline(\n",
    "                    [('cvect', CountVectorizer()),('lgr', LogisticRegression(max_iter=10000))],\n",
    "                    params_cvent,\n",
    "                    datasets[dataset][0], datasets[dataset][2],\n",
    "                    datasets[dataset][1], datasets[dataset][3])\n",
    "    results.append({'Preprocessing':dataset,'Feature Extraction Method':'CountVectorizer','ML Method':'Logistic Regression', 'Result': cvect_lgr_pipe})"
   ]
  },
  {
   "cell_type": "code",
   "execution_count": 34,
   "metadata": {
    "id": "DcQX_dIJW0yh"
   },
   "outputs": [],
   "source": [
    "# Find the best params from CountVectorizer + DecisionTreeClassifier\n",
    "for dataset in datasets:\n",
    "    cvect_dt_pipe = get_gridSearchCVResult_of_nlp_pipeline(\n",
    "                    [('cvect', CountVectorizer()), ('dt', DecisionTreeClassifier())],\n",
    "                    params_cvent,\n",
    "                    datasets[dataset][0], datasets[dataset][2],\n",
    "                    datasets[dataset][1], datasets[dataset][3])\n",
    "    results.append({'Preprocessing':dataset,'Feature Extraction Method':'CountVectorizer','ML Method':'Decision Tree', 'Result': cvect_dt_pipe})"
   ]
  },
  {
   "cell_type": "code",
   "execution_count": 35,
   "metadata": {
    "id": "3rvFauvuW314"
   },
   "outputs": [],
   "source": [
    "# Find the best params from CountVectorizer + MultinomialNB\n",
    "for dataset in datasets:\n",
    "    cvect_nb_pipe = get_gridSearchCVResult_of_nlp_pipeline(\n",
    "                    [('cvect', CountVectorizer()), ('nb', MultinomialNB())],\n",
    "                    params_cvent,\n",
    "                    datasets[dataset][0], datasets[dataset][2],\n",
    "                    datasets[dataset][1], datasets[dataset][3])\n",
    "    results.append({'Preprocessing':dataset,'Feature Extraction Method':'CountVectorizer','ML Method':'Bayes', 'Result': cvect_nb_pipe})"
   ]
  },
  {
   "cell_type": "code",
   "execution_count": 40,
   "metadata": {
    "id": "jbaYAks2W5kQ"
   },
   "outputs": [],
   "source": [
    "# Find the best params from TfidfVectorizer + LogisticRegression\n",
    "for dataset in datasets:\n",
    "    tfidf_lgr_pipe = get_gridSearchCVResult_of_nlp_pipeline(\n",
    "                    [('tfidf', TfidfVectorizer()),  ('lgr', LogisticRegression(max_iter=10000))],\n",
    "                    params_tfidf,\n",
    "                    datasets[dataset][0], datasets[dataset][2],\n",
    "                    datasets[dataset][1], datasets[dataset][3])\n",
    "    results.append({'Preprocessing':dataset,'Feature Extraction Method':'TfidfVectorizer','ML Method':'Logistic Regression', 'Result': tfidf_lgr_pipe})"
   ]
  },
  {
   "cell_type": "code",
   "execution_count": 43,
   "metadata": {
    "id": "bQF2teV3W8UK"
   },
   "outputs": [],
   "source": [
    "# Find the best params from TfidfVectorizer + DecisionTreeClassifier\n",
    "for dataset in datasets:\n",
    "    tfidf_dt_pipe = get_gridSearchCVResult_of_nlp_pipeline(\n",
    "                    [('tfidf', TfidfVectorizer()),  ('dt', DecisionTreeClassifier())],\n",
    "                    params_tfidf,\n",
    "                    datasets[dataset][0], datasets[dataset][2],\n",
    "                    datasets[dataset][1], datasets[dataset][3])\n",
    "    results.append({'Preprocessing':dataset,'Feature Extraction Method':'TfidfVectorizer','ML Method':'Decision Tree', 'Result': tfidf_dt_pipe})"
   ]
  },
  {
   "cell_type": "code",
   "execution_count": 44,
   "metadata": {
    "id": "o1GK5xKOW95n"
   },
   "outputs": [],
   "source": [
    "# Find the best params from TfidfVectorizer + MultinomialNB\n",
    "for dataset in datasets:\n",
    "    tfidf_nb_pipe = get_gridSearchCVResult_of_nlp_pipeline(\n",
    "                    [('tfidf', TfidfVectorizer()),  ('nb', MultinomialNB())],\n",
    "                    params_tfidf,\n",
    "                    datasets[dataset][0], datasets[dataset][2],\n",
    "                    datasets[dataset][1], datasets[dataset][3])\n",
    "    results.append({'Preprocessing':dataset,'Feature Extraction Method':'TfidfVectorizer','ML Method':'Bayes', 'Result': tfidf_nb_pipe})"
   ]
  },
  {
   "cell_type": "code",
   "execution_count": 100,
   "metadata": {},
   "outputs": [
    {
     "data": {
      "text/html": [
       "<div>\n",
       "<style scoped>\n",
       "    .dataframe tbody tr th:only-of-type {\n",
       "        vertical-align: middle;\n",
       "    }\n",
       "\n",
       "    .dataframe tbody tr th {\n",
       "        vertical-align: top;\n",
       "    }\n",
       "\n",
       "    .dataframe thead th {\n",
       "        text-align: right;\n",
       "    }\n",
       "</style>\n",
       "<table border=\"1\" class=\"dataframe\">\n",
       "  <thead>\n",
       "    <tr style=\"text-align: right;\">\n",
       "      <th></th>\n",
       "      <th>Stemmed/Lemmatized</th>\n",
       "      <th>Feature Extraction Method</th>\n",
       "      <th>ML Method</th>\n",
       "      <th>best_params</th>\n",
       "      <th>best_score</th>\n",
       "      <th>mean fit time in sec</th>\n",
       "    </tr>\n",
       "  </thead>\n",
       "  <tbody>\n",
       "    <tr>\n",
       "      <th>0</th>\n",
       "      <td>Stemmed</td>\n",
       "      <td>CountVectorizer</td>\n",
       "      <td>Logistic Regression</td>\n",
       "      <td>{'cvect__max_features': 2000, 'cvect__stop_words': None}</td>\n",
       "      <td>0.611474</td>\n",
       "      <td>47.677805</td>\n",
       "    </tr>\n",
       "    <tr>\n",
       "      <th>1</th>\n",
       "      <td>Lemmatized</td>\n",
       "      <td>CountVectorizer</td>\n",
       "      <td>Logistic Regression</td>\n",
       "      <td>{'cvect__max_features': 2000, 'cvect__stop_words': None}</td>\n",
       "      <td>0.607219</td>\n",
       "      <td>54.734529</td>\n",
       "    </tr>\n",
       "    <tr>\n",
       "      <th>2</th>\n",
       "      <td>Stemmed</td>\n",
       "      <td>CountVectorizer</td>\n",
       "      <td>Decision Tree</td>\n",
       "      <td>{'cvect__max_features': 2000, 'cvect__stop_words': 'english'}</td>\n",
       "      <td>0.611175</td>\n",
       "      <td>42.084241</td>\n",
       "    </tr>\n",
       "    <tr>\n",
       "      <th>3</th>\n",
       "      <td>Lemmatized</td>\n",
       "      <td>CountVectorizer</td>\n",
       "      <td>Decision Tree</td>\n",
       "      <td>{'cvect__max_features': 2000, 'cvect__stop_words': 'english'}</td>\n",
       "      <td>0.608689</td>\n",
       "      <td>40.468003</td>\n",
       "    </tr>\n",
       "    <tr>\n",
       "      <th>4</th>\n",
       "      <td>Stemmed</td>\n",
       "      <td>CountVectorizer</td>\n",
       "      <td>Bayes</td>\n",
       "      <td>{'cvect__max_features': 2000, 'cvect__stop_words': None}</td>\n",
       "      <td>0.596642</td>\n",
       "      <td>5.117055</td>\n",
       "    </tr>\n",
       "    <tr>\n",
       "      <th>5</th>\n",
       "      <td>Lemmatized</td>\n",
       "      <td>CountVectorizer</td>\n",
       "      <td>Bayes</td>\n",
       "      <td>{'cvect__max_features': 2000, 'cvect__stop_words': None}</td>\n",
       "      <td>0.594224</td>\n",
       "      <td>6.008335</td>\n",
       "    </tr>\n",
       "    <tr>\n",
       "      <th>6</th>\n",
       "      <td>Stemmed</td>\n",
       "      <td>TfidfVectorizer</td>\n",
       "      <td>Logistic Regression</td>\n",
       "      <td>{'tfidf__max_features': 2000, 'tfidf__ngram_range': (1, 1), 'tfidf__stop_words': None}</td>\n",
       "      <td>0.609791</td>\n",
       "      <td>45.122414</td>\n",
       "    </tr>\n",
       "    <tr>\n",
       "      <th>7</th>\n",
       "      <td>Lemmatized</td>\n",
       "      <td>TfidfVectorizer</td>\n",
       "      <td>Logistic Regression</td>\n",
       "      <td>{'tfidf__max_features': 2000, 'tfidf__ngram_range': (1, 1), 'tfidf__stop_words': None}</td>\n",
       "      <td>0.606066</td>\n",
       "      <td>39.515335</td>\n",
       "    </tr>\n",
       "    <tr>\n",
       "      <th>8</th>\n",
       "      <td>Stemmed</td>\n",
       "      <td>TfidfVectorizer</td>\n",
       "      <td>Decision Tree</td>\n",
       "      <td>{'tfidf__max_features': 2000, 'tfidf__ngram_range': (1, 1), 'tfidf__stop_words': 'english'}</td>\n",
       "      <td>0.602640</td>\n",
       "      <td>30.269534</td>\n",
       "    </tr>\n",
       "    <tr>\n",
       "      <th>9</th>\n",
       "      <td>Lemmatized</td>\n",
       "      <td>TfidfVectorizer</td>\n",
       "      <td>Decision Tree</td>\n",
       "      <td>{'tfidf__max_features': 2000, 'tfidf__ngram_range': (1, 1), 'tfidf__stop_words': 'english'}</td>\n",
       "      <td>0.602298</td>\n",
       "      <td>30.071770</td>\n",
       "    </tr>\n",
       "    <tr>\n",
       "      <th>10</th>\n",
       "      <td>Stemmed</td>\n",
       "      <td>TfidfVectorizer</td>\n",
       "      <td>Bayes</td>\n",
       "      <td>{'tfidf__max_features': 2000, 'tfidf__ngram_range': (1, 2), 'tfidf__stop_words': 'english'}</td>\n",
       "      <td>0.563527</td>\n",
       "      <td>4.250616</td>\n",
       "    </tr>\n",
       "    <tr>\n",
       "      <th>11</th>\n",
       "      <td>Lemmatized</td>\n",
       "      <td>TfidfVectorizer</td>\n",
       "      <td>Bayes</td>\n",
       "      <td>{'tfidf__max_features': 2000, 'tfidf__ngram_range': (1, 2), 'tfidf__stop_words': 'english'}</td>\n",
       "      <td>0.566586</td>\n",
       "      <td>5.608448</td>\n",
       "    </tr>\n",
       "  </tbody>\n",
       "</table>\n",
       "</div>"
      ],
      "text/plain": [
       "   Stemmed/Lemmatized Feature Extraction Method            ML Method  \\\n",
       "0             Stemmed           CountVectorizer  Logistic Regression   \n",
       "1          Lemmatized           CountVectorizer  Logistic Regression   \n",
       "2             Stemmed           CountVectorizer        Decision Tree   \n",
       "3          Lemmatized           CountVectorizer        Decision Tree   \n",
       "4             Stemmed           CountVectorizer                Bayes   \n",
       "5          Lemmatized           CountVectorizer                Bayes   \n",
       "6             Stemmed           TfidfVectorizer  Logistic Regression   \n",
       "7          Lemmatized           TfidfVectorizer  Logistic Regression   \n",
       "8             Stemmed           TfidfVectorizer        Decision Tree   \n",
       "9          Lemmatized           TfidfVectorizer        Decision Tree   \n",
       "10            Stemmed           TfidfVectorizer                Bayes   \n",
       "11         Lemmatized           TfidfVectorizer                Bayes   \n",
       "\n",
       "                                                                                    best_params  \\\n",
       "0                                      {'cvect__max_features': 2000, 'cvect__stop_words': None}   \n",
       "1                                      {'cvect__max_features': 2000, 'cvect__stop_words': None}   \n",
       "2                                 {'cvect__max_features': 2000, 'cvect__stop_words': 'english'}   \n",
       "3                                 {'cvect__max_features': 2000, 'cvect__stop_words': 'english'}   \n",
       "4                                      {'cvect__max_features': 2000, 'cvect__stop_words': None}   \n",
       "5                                      {'cvect__max_features': 2000, 'cvect__stop_words': None}   \n",
       "6        {'tfidf__max_features': 2000, 'tfidf__ngram_range': (1, 1), 'tfidf__stop_words': None}   \n",
       "7        {'tfidf__max_features': 2000, 'tfidf__ngram_range': (1, 1), 'tfidf__stop_words': None}   \n",
       "8   {'tfidf__max_features': 2000, 'tfidf__ngram_range': (1, 1), 'tfidf__stop_words': 'english'}   \n",
       "9   {'tfidf__max_features': 2000, 'tfidf__ngram_range': (1, 1), 'tfidf__stop_words': 'english'}   \n",
       "10  {'tfidf__max_features': 2000, 'tfidf__ngram_range': (1, 2), 'tfidf__stop_words': 'english'}   \n",
       "11  {'tfidf__max_features': 2000, 'tfidf__ngram_range': (1, 2), 'tfidf__stop_words': 'english'}   \n",
       "\n",
       "    best_score  mean fit time in sec  \n",
       "0     0.611474             47.677805  \n",
       "1     0.607219             54.734529  \n",
       "2     0.611175             42.084241  \n",
       "3     0.608689             40.468003  \n",
       "4     0.596642              5.117055  \n",
       "5     0.594224              6.008335  \n",
       "6     0.609791             45.122414  \n",
       "7     0.606066             39.515335  \n",
       "8     0.602640             30.269534  \n",
       "9     0.602298             30.071770  \n",
       "10    0.563527              4.250616  \n",
       "11    0.566586              5.608448  "
      ]
     },
     "execution_count": 100,
     "metadata": {},
     "output_type": "execute_result"
    }
   ],
   "source": [
    "# Show the results\n",
    "pd.set_option('display.max_colwidth', None)\n",
    "pd.DataFrame({\n",
    "    'Stemmed/Lemmatized':[result['Preprocessing'] for result in results],\n",
    "    'Feature Extraction Method': [result['Feature Extraction Method'] for result in results],\n",
    "    'ML Method': [result['ML Method'] for result in results], \n",
    "    'best_params': [result['Result']['gridSearchCV_result'].best_params_ for result in results],\n",
    "    'best_score': [result['Result']['gridSearchCV_result'].best_score_ for result in results],\n",
    "    'mean fit time in sec': [result['Result']['gridSearchCV_result'].cv_results_['mean_fit_time'].mean() for result in results],\n",
    "})"
   ]
  },
  {
   "cell_type": "markdown",
   "metadata": {},
   "source": [
    "## Evaluation"
   ]
  },
  {
   "cell_type": "markdown",
   "metadata": {},
   "source": [
    "From the GridSearchCV results above, The first best score comes from Stemmed Content + CountVectorizer with Logistic Regression, while the second best score comes from Stemmed Content + CountVectorizer with Decision Tree.  However, there is around 5.5 seconds mean fit time more to spend on the first best model to beat the second one with an insignificant 0.003 score. Therefore, I chose the second best model to build and evaluate."
   ]
  },
  {
   "cell_type": "code",
   "execution_count": 62,
   "metadata": {},
   "outputs": [
    {
     "data": {
      "text/plain": [
       "Pipeline(steps=[('cvect',\n",
       "                 CountVectorizer(max_features=2000, stop_words='english')),\n",
       "                ('dt', DecisionTreeClassifier())])"
      ]
     },
     "execution_count": 62,
     "metadata": {},
     "output_type": "execute_result"
    }
   ],
   "source": [
    "# build the \"best\" model\n",
    "pipeline = Pipeline(steps=[('cvect', CountVectorizer(max_features=2000,stop_words='english')),\n",
    "                           ('dt', DecisionTreeClassifier())])\n",
    "\n",
    "pipeline.fit(X_train_stemmed, y_train_stemmed)"
   ]
  },
  {
   "cell_type": "code",
   "execution_count": 155,
   "metadata": {},
   "outputs": [],
   "source": [
    "# obtain the confusion matrix\n",
    "y_train_pred = cross_val_predict(pipeline, X_train_stemmed, y_train_stemmed, cv=10, n_jobs=-1)\n",
    "conf_mat = confusion_matrix(y_train_stemmed, y_train_pred)"
   ]
  },
  {
   "cell_type": "code",
   "execution_count": 158,
   "metadata": {},
   "outputs": [
    {
     "data": {
      "image/png": "[encoded data removed]",
      "text/plain": [
       "<Figure size 432x288 with 2 Axes>"
      ]
     },
     "metadata": {
      "needs_background": "light"
     },
     "output_type": "display_data"
    }
   ],
   "source": [
    "# draw confusion matrix\n",
    "group_counts = [\"{0:0.0f}\".format(value) for value in\n",
    "                conf_mat.flatten()]\n",
    "\n",
    "group_percentages = [\"{0:.2%}\".format(value) for value in\n",
    "                     conf_mat.flatten()/np.sum(conf_mat)]\n",
    "\n",
    "labels = [f\"{v1}\\n{v2}\\n\" for v1, v2 in\n",
    "          zip(group_counts,group_percentages)]\n",
    "\n",
    "labels = np.asarray(labels).reshape(5,5)\n",
    "\n",
    "ax = sns.heatmap(conf_mat, annot=labels, fmt='', cmap='Blues')\n",
    "\n",
    "ax.set_title('Confusion Matrix\\n');\n",
    "ax.set_xlabel('\\nPredicted Sentiments')\n",
    "ax.set_ylabel('Actual Sentiments');\n",
    "\n",
    "ax.xaxis.set_ticklabels(['Negative','Somewhat Negative', 'Neutral','Somewhat Positive','Positive'])\n",
    "plt.xticks(rotation=90) \n",
    "ax.yaxis.set_ticklabels(['Negative','Somewhat Negative', 'Neutral','Somewhat Positive','Positive'])\n",
    "plt.yticks(rotation=0) \n",
    "\n",
    "plt.show()"
   ]
  },
  {
   "cell_type": "code",
   "execution_count": 162,
   "metadata": {},
   "outputs": [
    {
     "name": "stdout",
     "output_type": "stream",
     "text": [
      "Mean Cross Validation Score:  0.6042120551924474 (std:  0.0018923525662161316 )\n",
      "Precision:  0.5972560139896786\n",
      "Recall:  0.6151651074373105\n",
      "F1 score:  0.5969439784923416\n"
     ]
    }
   ],
   "source": [
    "cross_val_acc = cross_val_score(pipeline, X_train_stemmed, y_train_stemmed, cv=3, scoring=\"accuracy\", n_jobs=-1)\n",
    "print('Mean Cross Validation Score: ', cross_val_acc.mean(), '(std: ',cross_val_acc.std(),')')\n",
    "# Find precision, recall and F1 score\n",
    "print('Precision: ', precision_score(y_train_stemmed, y_train_pred, average = 'weighted'))\n",
    "print('Recall: ', recall_score(y_train_stemmed, y_train_pred, average = 'weighted'))\n",
    "print ('F1 score: ', f1_score(y_train_stemmed, y_train_pred, average = 'weighted'))"
   ]
  },
  {
   "cell_type": "markdown",
   "metadata": {},
   "source": [
    "## Conclusion"
   ]
  },
  {
   "cell_type": "markdown",
   "metadata": {},
   "source": [
    "Movie reviews are labelled with sentiments like negative, somewhat negative, neutral, somewhat positive, positive. Natural Language processing techniques are used to understand the sentiment in the moview reviews. Based on the model I built, movies can be recommended/not recommended to people. It can also helps the filming industry to know what kind of movies the large audience likes to watch."
   ]
  },
  {
   "cell_type": "markdown",
   "metadata": {},
   "source": [
    "I have first applied stemming and lemmatizing to preprocess the data. Then I used GridSearchCV to find the best machine learning model. The machine learning methods I have used include CountVectorizer, TfidfVectorizer, Logistic Regression, DecisionTreeClassifier and Naive Bayes. To balance between auuracy score and time used to build the model, I found that Stemmed Content + CountVectorizer with Decision Tree is the best among all methods. "
   ]
  },
  {
   "cell_type": "markdown",
   "metadata": {},
   "source": [
    "The mean cross validation score for the model is 0.6042 (std:  0.0019 ), Precision is 0.5973, Recall is 0.6152 and the F1 score is 0.5969 ."
   ]
  },
  {
   "cell_type": "markdown",
   "metadata": {},
   "source": [
    "By inputting new phrases or sentences, the model can tell the sentiment of the review. Hence, the movie rating can be indirectly deduced."
   ]
  },
  {
   "cell_type": "markdown",
   "metadata": {},
   "source": [
    "## Further Works"
   ]
  },
  {
   "cell_type": "markdown",
   "metadata": {},
   "source": [
    "1) Instead of removing name tags in the text, may be try to extract the tokenized verb for classification"
   ]
  },
  {
   "cell_type": "markdown",
   "metadata": {},
   "source": [
    "2) Try more parameters in GridSearchCV"
   ]
  },
  {
   "cell_type": "markdown",
   "metadata": {},
   "source": [
    "3) Apart from GridSearchCV, maybe try HalvingGridSearchCV to find the best model \n"
   ]
  },
  {
   "cell_type": "markdown",
   "metadata": {},
   "source": [
    "4) Apart from Logistic Regression, Bayers, Decision Tree, use other methods."
   ]
  },
  {
   "cell_type": "markdown",
   "metadata": {},
   "source": [
    "5) Since the original dataset was preprocessed, a sentence is divided into pieces. Maybe try to take the longest sentence in each PhraseId and rebuild the model"
   ]
  },
  {
   "cell_type": "markdown",
   "metadata": {},
   "source": [
    "6) Filter the spam texts before building the sentiment analysis model"
   ]
  },
  {
   "cell_type": "code",
   "execution_count": null,
   "metadata": {},
   "outputs": [],
   "source": []
  }
 ],
 "metadata": {
  "colab": {
   "collapsed_sections": [],
   "name": "Capstone 17.1 .ipynb",
   "provenance": []
  },
  "kernelspec": {
   "display_name": "Python 3 (ipykernel)",
   "language": "python",
   "name": "python3"
  },
  "language_info": {
   "codemirror_mode": {
    "name": "ipython",
    "version": 3
   },
   "file_extension": ".py",
   "mimetype": "text/x-python",
   "name": "python",
   "nbconvert_exporter": "python",
   "pygments_lexer": "ipython3",
   "version": "3.9.12"
  }
 },
 "nbformat": 4,
 "nbformat_minor": 1
}
